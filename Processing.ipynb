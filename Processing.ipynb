{
 "cells": [
  {
   "cell_type": "code",
   "execution_count": 1,
   "metadata": {},
   "outputs": [],
   "source": [
    "import pandas as pd\n",
    "\n",
    "import os\n",
    "\n",
    "import copy\n",
    "\n",
    "import random\n",
    "\n",
    "import pickle\n",
    "\n",
    "from tqdm import tqdm\n",
    "\n",
    "import matplotlib.pyplot as plt"
   ]
  },
  {
   "cell_type": "code",
   "execution_count": 2,
   "metadata": {},
   "outputs": [
    {
     "data": {
      "text/html": [
       "<div>\n",
       "<style scoped>\n",
       "    .dataframe tbody tr th:only-of-type {\n",
       "        vertical-align: middle;\n",
       "    }\n",
       "\n",
       "    .dataframe tbody tr th {\n",
       "        vertical-align: top;\n",
       "    }\n",
       "\n",
       "    .dataframe thead th {\n",
       "        text-align: right;\n",
       "    }\n",
       "</style>\n",
       "<table border=\"1\" class=\"dataframe\">\n",
       "  <thead>\n",
       "    <tr style=\"text-align: right;\">\n",
       "      <th></th>\n",
       "      <th>Text</th>\n",
       "      <th>Speaker</th>\n",
       "    </tr>\n",
       "  </thead>\n",
       "  <tbody>\n",
       "    <tr>\n",
       "      <th>0</th>\n",
       "      <td>central perk.</td>\n",
       "      <td>break</td>\n",
       "    </tr>\n",
       "    <tr>\n",
       "      <th>1</th>\n",
       "      <td>there's nothing to tell! he's just some guy i ...</td>\n",
       "      <td>monica</td>\n",
       "    </tr>\n",
       "    <tr>\n",
       "      <th>2</th>\n",
       "      <td>c'mon, you're going out with the guy! there's ...</td>\n",
       "      <td>joey</td>\n",
       "    </tr>\n",
       "    <tr>\n",
       "      <th>3</th>\n",
       "      <td>so does he have a hump? a hump and a hairpiece?</td>\n",
       "      <td>chandler</td>\n",
       "    </tr>\n",
       "    <tr>\n",
       "      <th>4</th>\n",
       "      <td>wait, does he eat chalk?</td>\n",
       "      <td>phoebe</td>\n",
       "    </tr>\n",
       "    <tr>\n",
       "      <th>...</th>\n",
       "      <td>...</td>\n",
       "      <td>...</td>\n",
       "    </tr>\n",
       "    <tr>\n",
       "      <th>63484</th>\n",
       "      <td>yeah, yeah, oh!</td>\n",
       "      <td>ross</td>\n",
       "    </tr>\n",
       "    <tr>\n",
       "      <th>63485</th>\n",
       "      <td>oh! oh, i'm so happy.</td>\n",
       "      <td>rachel</td>\n",
       "    </tr>\n",
       "    <tr>\n",
       "      <th>63486</th>\n",
       "      <td>then i'm happy too.</td>\n",
       "      <td>ross</td>\n",
       "    </tr>\n",
       "    <tr>\n",
       "      <th>63487</th>\n",
       "      <td>estelle's memorial service. joey is giving a s...</td>\n",
       "      <td>break</td>\n",
       "    </tr>\n",
       "    <tr>\n",
       "      <th>63488</th>\n",
       "      <td>thank you all for coming. we're here today to ...</td>\n",
       "      <td>joey</td>\n",
       "    </tr>\n",
       "  </tbody>\n",
       "</table>\n",
       "<p>63489 rows × 2 columns</p>\n",
       "</div>"
      ],
      "text/plain": [
       "                                                    Text   Speaker\n",
       "0                                          central perk.     break\n",
       "1      there's nothing to tell! he's just some guy i ...    monica\n",
       "2      c'mon, you're going out with the guy! there's ...      joey\n",
       "3        so does he have a hump? a hump and a hairpiece?  chandler\n",
       "4                               wait, does he eat chalk?    phoebe\n",
       "...                                                  ...       ...\n",
       "63484                                    yeah, yeah, oh!      ross\n",
       "63485                              oh! oh, i'm so happy.    rachel\n",
       "63486                                then i'm happy too.      ross\n",
       "63487  estelle's memorial service. joey is giving a s...     break\n",
       "63488  thank you all for coming. we're here today to ...      joey\n",
       "\n",
       "[63489 rows x 2 columns]"
      ]
     },
     "execution_count": 2,
     "metadata": {},
     "output_type": "execute_result"
    }
   ],
   "source": [
    "DATA_FOLDER = 'data'\n",
    "\n",
    "df = pd.read_csv('data\\\\Friends_processed.csv')\n",
    "df"
   ]
  },
  {
   "cell_type": "markdown",
   "metadata": {},
   "source": [
    "Задаем основные параметры обработки:\n",
    "\n",
    "- BREAK_LABEL - метка разрыва диалогов\n",
    "- CHARACT - выбранный персонаж\n",
    "- CONT_DEPTH - глубина контекста"
   ]
  },
  {
   "cell_type": "code",
   "execution_count": 3,
   "metadata": {},
   "outputs": [],
   "source": [
    "BREAK_LABEL = 'break'\n",
    "CHARACT = 'chandler'\n",
    "REPL_DEPTH = 2\n",
    "CONT_DEPTH = 8"
   ]
  },
  {
   "cell_type": "markdown",
   "metadata": {},
   "source": [
    "Обрабатываем реплики персонажей следующим образом: в поле 'answer' записывается реплика выбранного персонажа. В поле 'question' записываются предшествующие реплики, количеством не более REPL_DEPTH, если в текущем диалоге появляется новая реплика персонажа, то предыдущая пара question-answer записывается в поле 'context', но не более CONT_DEPTH. Context работает по принципу, аналогичному стеку, но с максимальной глубиной CONT_DEPTH. Если количество пар question-answer в context становится более CONT_DEPTH, то при добавлении новой из него убирается самая первая пара.\n",
    "\n",
    "Если диалог начинается с реплики выбранного персонажа, она не добавляется в датасет т.к. у нее нет предшествующей реплики"
   ]
  },
  {
   "cell_type": "code",
   "execution_count": 4,
   "metadata": {},
   "outputs": [
    {
     "name": "stderr",
     "output_type": "stream",
     "text": [
      "63489it [00:03, 16507.84it/s]\n"
     ]
    }
   ],
   "source": [
    "data = []\n",
    "context = []\n",
    "bank_repl = []\n",
    "\n",
    "for index, row in tqdm(df.iterrows()):\n",
    "    if row['Speaker'] == CHARACT and len(bank_repl) > 0:\n",
    "        dialog = {}\n",
    "        question = ''\n",
    "        for i in range(min(len(bank_repl), REPL_DEPTH), 0, -1):\n",
    "            question = question + ' ' + str(bank_repl[-i])\n",
    "        dialog['question'] = question        \n",
    "        dialog['answer'] = row['Text']\n",
    "        dialog['context'] = copy.deepcopy(context)        \n",
    "        if len(context) == CONT_DEPTH:\n",
    "            context = context[1:]        \n",
    "        context.append([question, row['Text']])            \n",
    "        dialog['label'] = 1\n",
    "        data.append(dialog)\n",
    "        bank_repl.clear()\n",
    "    else:    \n",
    "        bank_repl.append(row['Text'])\n",
    "    \n",
    "    if row['Speaker'] == BREAK_LABEL:\n",
    "        context.clear()\n",
    "        bank_repl.clear()"
   ]
  },
  {
   "cell_type": "markdown",
   "metadata": {},
   "source": [
    "Выводим несколько диалогов для проверки правильности работы алгоритма"
   ]
  },
  {
   "cell_type": "code",
   "execution_count": 5,
   "metadata": {},
   "outputs": [
    {
     "data": {
      "text/plain": [
       "{'question': \" there's nothing to tell! he's just some guy i work with! c'mon, you're going out with the guy! there's gotta be something wrong with him!\",\n",
       " 'answer': 'so does he have a hump? a hump and a hairpiece?',\n",
       " 'context': [],\n",
       " 'label': 1}"
      ]
     },
     "execution_count": 5,
     "metadata": {},
     "output_type": "execute_result"
    }
   ],
   "source": [
    "data[0]"
   ]
  },
  {
   "cell_type": "code",
   "execution_count": 6,
   "metadata": {},
   "outputs": [
    {
     "data": {
      "text/plain": [
       "{'question': \" alright, so i'm back in high school, i'm standing in the middle of the cafeteria, and i realise i am totally naked. oh, yeah. had that dream.\",\n",
       " 'answer': \"then i look down, and i realise there's a phone... there.\",\n",
       " 'context': [],\n",
       " 'label': 1}"
      ]
     },
     "execution_count": 6,
     "metadata": {},
     "output_type": "execute_result"
    }
   ],
   "source": [
    "data[2]"
   ]
  },
  {
   "cell_type": "code",
   "execution_count": 7,
   "metadata": {},
   "outputs": [
    {
     "data": {
      "text/plain": [
       "{'question': ' instead of...?',\n",
       " 'answer': \"that's right.\",\n",
       " 'context': [[\" alright, so i'm back in high school, i'm standing in the middle of the cafeteria, and i realise i am totally naked. oh, yeah. had that dream.\",\n",
       "   \"then i look down, and i realise there's a phone... there.\"]],\n",
       " 'label': 1}"
      ]
     },
     "execution_count": 7,
     "metadata": {},
     "output_type": "execute_result"
    }
   ],
   "source": [
    "data[3]"
   ]
  },
  {
   "cell_type": "markdown",
   "metadata": {},
   "source": [
    "Всего получается 7751 диалог с ответами"
   ]
  },
  {
   "cell_type": "code",
   "execution_count": 8,
   "metadata": {},
   "outputs": [
    {
     "data": {
      "text/plain": [
       "7751"
      ]
     },
     "execution_count": 8,
     "metadata": {},
     "output_type": "execute_result"
    }
   ],
   "source": [
    "len(data)"
   ]
  },
  {
   "cell_type": "markdown",
   "metadata": {},
   "source": [
    "Строим диаграмму для распределения контекста по длине, видим, что все контексты длиннее максимальной глубины сконцентировались в контексте с длиной = CONT_DEPTH. Ради интереса я провел исследование, максимальная глубина контекста в датасете может составлять 84 предшествующие реплики для выбранного персонажа"
   ]
  },
  {
   "cell_type": "code",
   "execution_count": 9,
   "metadata": {},
   "outputs": [],
   "source": [
    "len_cont = {}\n",
    "\n",
    "for item in data:\n",
    "    if len(item['context']) in len_cont:\n",
    "        len_cont[len(item['context'])] += 1\n",
    "    else:\n",
    "        len_cont[len(item['context'])] = 1"
   ]
  },
  {
   "cell_type": "code",
   "execution_count": 10,
   "metadata": {},
   "outputs": [
    {
     "data": {
      "image/png": "[encoded data removed]",
      "text/plain": [
       "<Figure size 640x480 with 1 Axes>"
      ]
     },
     "metadata": {},
     "output_type": "display_data"
    }
   ],
   "source": [
    "plt.ylabel('Количество реплик')\n",
    "plt.xlabel('Глубина контекста')\n",
    "plt.bar(len_cont.keys(), len_cont.values(), color='g');"
   ]
  },
  {
   "cell_type": "markdown",
   "metadata": {},
   "source": [
    "Формируем корпус возможных ответов персонажа, выводим несколько примеров для проверки. Проверяем, что все ответные реплики персонажа попали в него. Сохраняем в бинарный файл"
   ]
  },
  {
   "cell_type": "code",
   "execution_count": 11,
   "metadata": {},
   "outputs": [
    {
     "name": "stdout",
     "output_type": "stream",
     "text": [
      "so does he have a hump? a hump and a hairpiece?\n",
      "sounds like a date to me.\n",
      "then i look down, and i realise there's a phone... there.\n"
     ]
    }
   ],
   "source": [
    "charact_corpus = []\n",
    "\n",
    "for item in data:\n",
    "    charact_corpus.append(str(item['answer']))\n",
    "\n",
    "print(charact_corpus[0])\n",
    "print(charact_corpus[1])\n",
    "print(charact_corpus[2])"
   ]
  },
  {
   "cell_type": "code",
   "execution_count": 12,
   "metadata": {},
   "outputs": [
    {
     "data": {
      "text/plain": [
       "True"
      ]
     },
     "execution_count": 12,
     "metadata": {},
     "output_type": "execute_result"
    }
   ],
   "source": [
    "len(charact_corpus) == len(data)"
   ]
  },
  {
   "cell_type": "code",
   "execution_count": 13,
   "metadata": {},
   "outputs": [],
   "source": [
    "MODEL_FOLDER = 'model'"
   ]
  },
  {
   "cell_type": "code",
   "execution_count": 14,
   "metadata": {},
   "outputs": [
    {
     "name": "stdout",
     "output_type": "stream",
     "text": [
      "[WinError 183] Cannot create a file when that file already exists: 'model'\n"
     ]
    }
   ],
   "source": [
    "try:\n",
    "    os.mkdir(MODEL_FOLDER)\n",
    "except OSError as error:\n",
    "    print(error)"
   ]
  },
  {
   "cell_type": "code",
   "execution_count": 15,
   "metadata": {},
   "outputs": [],
   "source": [
    "with open(os.path.join(MODEL_FOLDER, 'charact_corpus.pkl'), 'wb') as file:\n",
    "    pickle.dump(charact_corpus, file)"
   ]
  },
  {
   "cell_type": "markdown",
   "metadata": {},
   "source": [
    "Создаем корпус реплик для генерации негативных примеров ответов\n",
    "- NEGATIVE_CHARACT - список персонажей для негативных примеров"
   ]
  },
  {
   "cell_type": "code",
   "execution_count": 16,
   "metadata": {},
   "outputs": [],
   "source": [
    "NEGATIVE_CHARACT = ['rachel', 'phoebe', 'monica']"
   ]
  },
  {
   "cell_type": "code",
   "execution_count": 17,
   "metadata": {},
   "outputs": [
    {
     "name": "stdout",
     "output_type": "stream",
     "text": [
      "there's nothing to tell! he's just some guy i work with!\n",
      "wait, does he eat chalk?\n",
      "just, 'cause, i don't want her to go through what i went through with carl- oh!\n"
     ]
    }
   ],
   "source": [
    "negative_charact_corpus = list(df[df['Speaker'].isin(NEGATIVE_CHARACT)]['Text'])\n",
    "\n",
    "print(negative_charact_corpus[0])\n",
    "print(negative_charact_corpus[1])\n",
    "print(negative_charact_corpus[2])"
   ]
  },
  {
   "cell_type": "markdown",
   "metadata": {},
   "source": [
    "Добавляем к датасету негативные примеры следующим образом: задаем количество негативных примеров в виде доли от общего числа диалогов. Добавляем в датасет копии случайно выбранных диалогов с контекстом, заменяя правильный ответ на неправильный, случайно выбранный из заранее подготовленного корпуса ответов"
   ]
  },
  {
   "cell_type": "code",
   "execution_count": 18,
   "metadata": {},
   "outputs": [
    {
     "data": {
      "text/plain": [
       "3875"
      ]
     },
     "execution_count": 18,
     "metadata": {},
     "output_type": "execute_result"
    }
   ],
   "source": [
    "NEGATIVE_SHARE = 0.5\n",
    "number_of_negative = int(NEGATIVE_SHARE*len(data))\n",
    "number_of_negative"
   ]
  },
  {
   "cell_type": "code",
   "execution_count": 19,
   "metadata": {},
   "outputs": [],
   "source": [
    "negative_dialogs = random.sample(range(0, len(data)), number_of_negative)"
   ]
  },
  {
   "cell_type": "code",
   "execution_count": 20,
   "metadata": {},
   "outputs": [],
   "source": [
    "for negative_num in negative_dialogs:\n",
    "    new_dialog = copy.deepcopy(data[negative_num])\n",
    "    new_dialog['answer'] = negative_charact_corpus[random.randrange(len(negative_charact_corpus))]\n",
    "    new_dialog['label'] = 0\n",
    "    data.append(new_dialog)"
   ]
  },
  {
   "cell_type": "markdown",
   "metadata": {},
   "source": [
    "Проверяем на первом диалоге из списка негативных. Видим, что алгоритм отработал верно"
   ]
  },
  {
   "cell_type": "code",
   "execution_count": 21,
   "metadata": {},
   "outputs": [
    {
     "data": {
      "text/plain": [
       "{'question': ' oh, chandler. hi chandler!',\n",
       " 'answer': 'that’s… that’s was…',\n",
       " 'context': [[' hey.', 'hey.'],\n",
       "  [' oh. sorry!',\n",
       "   'no-no-no, y’know what? i really shouldn’t have said that you were embarrassing me, i mean that really wasn’t cool. and if it makes you feel any better, i’ve had a really lousy day.'],\n",
       "  [' me too.', 'yeah?']],\n",
       " 'label': 1}"
      ]
     },
     "execution_count": 21,
     "metadata": {},
     "output_type": "execute_result"
    }
   ],
   "source": [
    "data[negative_dialogs[0]]"
   ]
  },
  {
   "cell_type": "code",
   "execution_count": 22,
   "metadata": {},
   "outputs": [
    {
     "data": {
      "text/plain": [
       "{'question': ' oh, chandler. hi chandler!',\n",
       " 'answer': 'okay, umm, i’m gonna get my sweater.',\n",
       " 'context': [[' hey.', 'hey.'],\n",
       "  [' oh. sorry!',\n",
       "   'no-no-no, y’know what? i really shouldn’t have said that you were embarrassing me, i mean that really wasn’t cool. and if it makes you feel any better, i’ve had a really lousy day.'],\n",
       "  [' me too.', 'yeah?']],\n",
       " 'label': 0}"
      ]
     },
     "execution_count": 22,
     "metadata": {},
     "output_type": "execute_result"
    }
   ],
   "source": [
    "data[7751]"
   ]
  },
  {
   "cell_type": "markdown",
   "metadata": {},
   "source": [
    "Смотрим новую длину датасета и сохраняем его в бинарный файл"
   ]
  },
  {
   "cell_type": "code",
   "execution_count": 23,
   "metadata": {},
   "outputs": [
    {
     "data": {
      "text/plain": [
       "11626"
      ]
     },
     "execution_count": 23,
     "metadata": {},
     "output_type": "execute_result"
    }
   ],
   "source": [
    "len(data)"
   ]
  },
  {
   "cell_type": "code",
   "execution_count": 24,
   "metadata": {},
   "outputs": [
    {
     "name": "stdout",
     "output_type": "stream",
     "text": [
      "[WinError 183] Cannot create a file when that file already exists: 'data'\n"
     ]
    }
   ],
   "source": [
    "try:\n",
    "    os.mkdir(DATA_FOLDER)\n",
    "except OSError as error:\n",
    "    print(error)"
   ]
  },
  {
   "cell_type": "code",
   "execution_count": 27,
   "metadata": {},
   "outputs": [],
   "source": [
    "with open(os.path.join(DATA_FOLDER, 'data.pkl'), 'wb') as file:\n",
    "    pickle.dump(data, file)"
   ]
  }
 ],
 "metadata": {
  "kernelspec": {
   "display_name": "Python 3",
   "language": "python",
   "name": "python3"
  },
  "language_info": {
   "codemirror_mode": {
    "name": "ipython",
    "version": 3
   },
   "file_extension": ".py",
   "mimetype": "text/x-python",
   "name": "python",
   "nbconvert_exporter": "python",
   "pygments_lexer": "ipython3",
   "version": "3.9.16"
  }
 },
 "nbformat": 4,
 "nbformat_minor": 2
}
